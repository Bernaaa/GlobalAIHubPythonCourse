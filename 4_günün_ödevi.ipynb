{
  "nbformat": 4,
  "nbformat_minor": 0,
  "metadata": {
    "colab": {
      "name": "4.günün ödevi.ipynb",
      "provenance": [],
      "collapsed_sections": []
    },
    "kernelspec": {
      "name": "python3",
      "display_name": "Python 3"
    },
    "language_info": {
      "name": "python"
    }
  },
  "cells": [
    {
      "cell_type": "code",
      "metadata": {
        "id": "6PrR61gg6Ztc"
      },
      "source": [
        "\n",
        "ahmet_grades :{'midterm':'70', 'project':'50', 'final':'90'}\n",
        "mehmet_grades:{'midterm':45, 'project':80,'final':20}\n",
        "fatma_grades:{'midterm':80, 'project':57,'final':60}\n",
        "hale_grades:{'midterm':79, 'project':12,'final':97}\n",
        "berk_grades:{'midterm':30, 'project':34,'final':83}\n",
        "midterm = input ('Enter ahmets midterm grade:')\n",
        "project = input ('Enter ahmets project grade:')\n",
        "final = input ('Enter ahmets final grade:')\n",
        "passing_grade = int(midterm)*(3/10) + int(project)*(3/10) + int(final)*(4/10)\n",
        "print(\" ahmets passing_grade :{0} \".format(passing_grade))\n",
        "midterm = input ('Enter mehmets midterm grade:')\n",
        "project = input ('Enter mehmets project grade:')\n",
        "final = input ('Enter mehmets final grade:')\n",
        "passing_grade = int(midterm)*(3/10) + int(project)*(3/10) + int(final)*(4/10)\n",
        "print(\" mehmets passing_grade :{0} \".format(passing_grade))\n",
        "midterm = input ('Enter fatmas midterm grade:')\n",
        "project = input ('Enter fatmas project grade:')\n",
        "final = input ('Enter fatmas final grade:')\n",
        "passing_grade = int(midterm)*(3/10) + int(project)*(3/10) + int(final)*(4/10)\n",
        "print(\" fatmas passing_grade :{0} \".format(passing_grade))\n",
        "midterm = input ('Enter hales midterm grade:')\n",
        "project = input ('Enter hales project grade:')\n",
        "final = input ('Enter hales final grade:')\n",
        "passing_grade = int(midterm)*(3/10) + int(project)*(3/10) + int(final)*(4/10)\n",
        "print(\" hales passing_grade :{0} \".format(passing_grade))\n",
        "midterm = input ('Enter berks midterm grade:')\n",
        "project = input ('Enter berks project grade:')\n",
        "final = input ('Enter berks final grade:')\n",
        "passing_grade = int(midterm)*(3/10) + int(project)*(3/10) + int(final)*(4/10)\n",
        "print(\" berks passing_grade :{0} \".format(passing_grade))\n",
        "\n",
        "print(passing_grade) = ['ahmets passing_grade' , 'mehmets passing_grade' , 'fatmas passing_grade' , 'hales passing_grade' , 'berks passing_grade'])\n",
        "passing_grade.sort()\n"
      ],
      "execution_count": null,
      "outputs": []
    }
  ]
}