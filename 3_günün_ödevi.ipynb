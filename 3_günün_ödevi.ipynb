{
  "nbformat": 4,
  "nbformat_minor": 0,
  "metadata": {
    "colab": {
      "name": "3.günün ödevi.ipynb",
      "provenance": [],
      "collapsed_sections": []
    },
    "kernelspec": {
      "name": "python3",
      "display_name": "Python 3"
    },
    "language_info": {
      "name": "python"
    }
  },
  "cells": [
    {
      "cell_type": "code",
      "metadata": {
        "id": "QefpqbtcvoCQ"
      },
      "source": [
        ""
      ],
      "execution_count": null,
      "outputs": []
    },
    {
      "cell_type": "code",
      "metadata": {
        "id": "Ck4c4zW7CScp",
        "colab": {
          "base_uri": "https://localhost:8080/"
        },
        "outputId": "0aa3b139-897f-465d-aace-757618c169df"
      },
      "source": [
        "D = {'username1': 'ahmet', 'password1':'123','username2': 'fatma', 'password2':'456'}\n",
        "username = list(D.keys())\n",
        "password = list(D.values())\n",
        "dict(zip(username,password))\n",
        "username = \"ahmet\",\"fatma\"\n",
        "password = \"123\",\"456\"\n",
        "\n",
        "kullanici_adi = input(\"Kullanıcı Adını Giriniz: \")\n",
        "sifre = input(\"Şifreyi Giriniz: \")\n",
        "\n",
        "if (kullanici_adi == username) and (sifre != password):\n",
        "    print(\"Şifre yanlış.Unutkanlık basa bela!\")\n",
        "\n",
        "elif (kullanici_adi != username) and (sifre == password):\n",
        "    print(\"Kullanıcı adı yanlış.Unutkanlık basa bela!\")\n",
        "\n",
        "elif (kullanici_adi != username) and (sifre != password):\n",
        "    print(\"Kullanıcı adı ve şifre yanlış..\")\n",
        "else:\n",
        "    print(\"Aferin sana,helal olsun!\")\n",
        "\n",
        "\n",
        "\n",
        "\n",
        "\n",
        "\n",
        "\n",
        "\n",
        "\n",
        "\n",
        "\n",
        "\n"
      ],
      "execution_count": 57,
      "outputs": [
        {
          "output_type": "stream",
          "text": [
            "Kullanıcı Adını Giriniz: fatma\n",
            "Şifreyi Giriniz: 456\n",
            "Kullanıcı adı ve şifre yanlış..\n"
          ],
          "name": "stdout"
        }
      ]
    }
  ]
}