{
  "nbformat": 4,
  "nbformat_minor": 0,
  "metadata": {
    "colab": {
      "name": "2.günün ödevi.ipynb",
      "provenance": [],
      "collapsed_sections": []
    },
    "kernelspec": {
      "name": "python3",
      "display_name": "Python 3"
    },
    "language_info": {
      "name": "python"
    }
  },
  "cells": [
    {
      "cell_type": "code",
      "metadata": {
        "colab": {
          "base_uri": "https://localhost:8080/"
        },
        "id": "96hSPy3pDLdL",
        "outputId": "d2c164b8-e8fb-40d5-dee7-d2f936d8b3ab"
      },
      "source": [
        "#cevap1\n",
        "mylist = [86,45,32,95,53,29,74,8]\n",
        "the_first_half = mylist[:4]\n",
        "print(the_first_half)\n",
        "the_second_half = mylist[4:]\n",
        "print(the_second_half)\n",
        "the_second_half.extend(the_first_half)\n",
        "print(the_second_half)"
      ],
      "execution_count": 37,
      "outputs": [
        {
          "output_type": "stream",
          "text": [
            "[86, 45, 32, 95]\n",
            "[53, 29, 74, 8]\n",
            "[53, 29, 74, 8, 86, 45, 32, 95]\n"
          ],
          "name": "stdout"
        }
      ]
    },
    {
      "cell_type": "code",
      "metadata": {
        "id": "BrGzFF95Q3yp"
      },
      "source": [
        "#cevap2\n",
        "\n",
        "n = input ('Lütfen tek basamaklı bir sayı giriniz:')\n",
        "try:\n",
        "    if int(n)>=0:\n",
        "        print(\"Çift sayılar :\")\n",
        "        for i in range(int(n)):\n",
        "            if i % 2 == 0:\n",
        "                print(i)          \n",
        "except:\n",
        "        print(\"Lütfen tek basamaklı bir sayı giriniz.\")\n",
        " \n"
      ],
      "execution_count": null,
      "outputs": []
    },
    {
      "cell_type": "markdown",
      "metadata": {
        "id": "NQbIInalQqbt"
      },
      "source": [
        ""
      ]
    }
  ]
}